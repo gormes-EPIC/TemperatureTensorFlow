{
  "cells": [
    {
      "cell_type": "markdown",
      "metadata": {
        "id": "xBm1YJxHbUJU"
      },
      "source": [
        "# Lab 2.3: Temperature Conversion in TensorFlow\n",
        "\n",
        "## Objective\n",
        "- Install and learn the basics of the `tensorflow` library.\n",
        "- Train a neural network model to output temperature in Fahrenheit given a temperature in Celsius. \n",
        "- Compare and contrast the results of training multiple models with differnet parameters. \n",
        "\n",
        "## Rubric\n",
        "- 6 pts - Contains all required components and uses professional language and commenting\n",
        "- 5 pts - Contains all required components, but uses unprofessional language, commenting, etc. \n",
        "- 4 pts - Contains some, but not all, of the required components\n",
        "- 3 pts - Did not submit\n",
        "\n",
        "\n",
        "## What is a Neural Network?\n",
        "\n",
        "A **neural network** is a type of machine learning model that's designed to work a bit like the human brain — it processes information by passing it through layers of simple units called **nodes**, which are connected by **weights**.\n",
        "\n",
        "<img src=\"neuralnet.png\" width=\"300\">\n",
        "\n",
        "We will talk about neural networks that have three layers:\n",
        "- **Input Layer** – Takes in the raw data (like pixels of an image or numbers in a spreadsheet).\n",
        "- **Hidden Layers** – These are intermediate layers where most of the computation happens. Nodes in these layers apply weights, add a bias, and pass the result through an activation function.\n",
        "- **Output Layer** – Gives the final result (e.g., classifying an image as a cat or dog).\n",
        "\n",
        "Each time a data point enters the neural network, each node's weights and biases are updated based on the result. Over time, the weights and biases are trained to produce the correct response. \n",
        "\n",
        "\n",
        "## Creating a Neural Network\n",
        "\n",
        "\n",
        "In this lab, you will create a **neural network** to calculate the temperature in Fahrenheit, given the corresponding Celsius. We know the formula to find Fahrenheit is:\n",
        "$$ °F = 1.8 \\times °C + 32 $$\n",
        "\n",
        "But we will be working a neural network instead. The purpose of the model is to have the computer \"intuit\" the formula by transforming the input and comparing it to the expected output. \n",
        "\n",
        "\n",
        "## Install TensorFlow\n",
        "\n",
        "Using your terminal install `tensorflow` with \n",
        "\n",
        "```\n",
        "pip install tensorflow\n",
        "```\n",
        "or\n",
        "```\n",
        "sudo apt install python3-tensorflow\n",
        "```\n"
      ]
    },
    {
      "cell_type": "markdown",
      "metadata": {
        "id": "zn_kcb3SYCEs"
      },
      "source": [
        "## Import TensorFlow and Pandas\n",
        "\n",
        "The first step in your program is to import the `tensorflow` into Python. Typically, we `import tensorflow as tf` for brevity. Import `pandas` as well."
      ]
    },
    {
      "cell_type": "code",
      "execution_count": null,
      "metadata": {
        "id": "zGco5QF2L9ZJ"
      },
      "outputs": [],
      "source": []
    },
    {
      "cell_type": "markdown",
      "metadata": {
        "id": "EA-EKz6YMgFo"
      },
      "source": [
        "## Set Up Training Data\n",
        "\n",
        "Next, we need to create two variables for the input and output data to use to train the model.\n",
        "\n",
        "Write a program to convert Celsius temperatures into Fahrenheit. Then create new dataframe with two columns(`celsius` and `fahrenheit`) with 5 data points each.\n",
        "\n",
        "Then, save your `celsius` column in a new Dataframe `X` and your `fahrenheit` as a Series `y`. This should be exactly the same as how you created `X` and `y` in your Automobile Model Lab. "
      ]
    },
    {
      "cell_type": "code",
      "execution_count": null,
      "metadata": {
        "id": "UTcZHsX5M4QN"
      },
      "outputs": [],
      "source": []
    },
    {
      "cell_type": "markdown",
      "metadata": {
        "id": "VflzfXORN7CD"
      },
      "source": [
        "##  Creating the TensorFlow Model\n",
        "\n",
        "The **neural network** we will use is limited to one input (Celsius temperature) and one output (Fahrenheit temperature), but the number of hidden layers and nodes can be altered. The more complex the model is, the more nodes and layers you will want to use. Since we know that the temperature model is very simple and can be modeled with just one node, let's start there.\n",
        "\n",
        "<img src=\"tempnn.jpeg\" width=\"300\">\n",
        "\n",
        "\n",
        "Create a model with a single input and one hidden node with `model = tf.keras.Sequential([tf.keras.layers.Dense(units=1, input_shape=[1])])`\n",
        "- The single input is expressed with the `input_shape=[1]` parameter\n",
        "- The single node is expressed with the `units=1` parameter"
      ]
    },
    {
      "cell_type": "code",
      "execution_count": null,
      "metadata": {
        "id": "spVQRItgO3Rg"
      },
      "outputs": [],
      "source": []
    },
    {
      "cell_type": "markdown",
      "metadata": {
        "id": "lxkZlnwzPW7x"
      },
      "source": [
        "## Compiling and Running the Model\n",
        "\n",
        "Next, you can compile and run the model. The compile command set the parameters for the model. \n",
        "\n",
        "`model.compile(loss=\"mean_squared_error\", optimizer=tf.keras.optimizers.Adam(0.1))`\n",
        "\n",
        "Just like all the other models we've built, the model is actually built and fitted to the data with the `model.fit()` command. Notice that the parameters of this command take the input, output, and number of **epochs**, along with the verbose command to specify how much to print to the screen.\n",
        "\n",
        "`history = model.fit(X, y, epochs=150, verbose=False)`\n",
        "\n",
        "- `X` - This is the model input values(in Celsius).\n",
        "- `y` - This is the model output values(in Fahrenheit).\n",
        "- `epochs=150` - The model will run through the data 150 times. After each pass, it will update the weights and bias values to fit the model better. An **epoch** in machine learning (especially in training neural networks) is one full pass through the entire training dataset.\n",
        "- `verbose=False` - This will suppress any output as the model builds. This command is optional, but makes the screen clear.\n",
        "\n",
        "\n",
        "This model output is assigned to the `history` variable. This will allow you to do some analysis on the fit of the model.\n",
        "\n",
        "### Run the code\n",
        "When you run this code, expect it to take a few seconds to execute as it is running through the data 150 times.\n"
      ]
    },
    {
      "cell_type": "code",
      "execution_count": null,
      "metadata": {
        "id": "d8rR_tFoPh-j"
      },
      "outputs": [],
      "source": []
    },
    {
      "cell_type": "markdown",
      "metadata": {
        "id": "V5Zg5U5bQhqR"
      },
      "source": [
        "## Viewing the Results\n",
        "\n",
        "Now that the model has run, you can use it to predict a value. Just like previous models, we can use the `model.predict()` command .\n",
        "\n",
        "Create a new Dataframe with 100 degrees so we can see what our model predicts. It should be close to 212 degrees Fahrenheit but will probably not be exact. Each time you fit the model, you may get different resuts."
      ]
    },
    {
      "cell_type": "code",
      "execution_count": null,
      "metadata": {
        "id": "EIvICqc-QhSq"
      },
      "outputs": [],
      "source": []
    },
    {
      "cell_type": "markdown",
      "metadata": {},
      "source": [
        "### View the Weight and Bias\n",
        "\n",
        "Use the following lines to view the model's weight and bias for the hidden node. Compare the weight and bias of your model to that of the real equation.\n",
        "\n",
        "$$  °F = WEIGHT × °C + BIAS $$\n",
        "$$  °F = 1.8 × °C + 32 $$\n",
        "\n",
        "```\n",
        "print (\"Model variables weights: \" + str(model.layers[0].get_weights()[0]))\n",
        "print (\"Model bias: \" + str(model.layers[0].get_weights()[1]))\n",
        "```"
      ]
    },
    {
      "cell_type": "code",
      "execution_count": null,
      "metadata": {},
      "outputs": [],
      "source": []
    },
    {
      "cell_type": "markdown",
      "metadata": {
        "id": "M-QK8QrySTUM"
      },
      "source": [
        "\n",
        "## Model Metrics\n",
        "Let's look at some more metrics about our model. \n",
        "\n",
        "Each time an epoch runs, it assigns a value for the weight and bias for each node. The model uses these values with the input value (temperature in celsius) to predict an output value (temperature in fahrenheit). The **loss value** is the difference between the predicted output and the actual output.\n",
        "\n",
        "## Import matplotlib and Plot Loss data\n",
        "\n",
        "Run the code below to see a measure of the loss value. Notice how the loss gets smaller over time. This represents the model fitting a little better with each pass.\n",
        "\n",
        "```\n",
        "import matplotlib.pyplot as plt\n",
        "\n",
        "plt.xlabel('Epoch Number')\n",
        "plt.ylabel(\"Loss Magnitude\")\n",
        "plt.ylim(0,2000)\n",
        "plt.grid()\n",
        "plt.plot(history.history['loss'])\n",
        "plt.show()\n",
        "```"
      ]
    },
    {
      "cell_type": "code",
      "execution_count": null,
      "metadata": {
        "id": "UO_LIFEHSS4p"
      },
      "outputs": [],
      "source": []
    },
    {
      "cell_type": "markdown",
      "metadata": {
        "id": "e5D7uk_vXe-b"
      },
      "source": [
        "## Modifying the Model Parameters\n",
        "\n",
        "The two models below contain the same input and output values as above, but you can make some edits to the model parameters to see the impact.\n",
        "\n",
        "Try each of the following and note the results. **Show the prediction for 100 degrees and a loss plot for each one.**\n",
        "\n",
        "1. Change the number of epochs that you run from 150 to 300.\n",
        "2. Keep the epochs at 150. Use your weather data from the Weather Station Lab.\n",
        "\n",
        "For each of these, you will want to compare two things:\n",
        "\n",
        "- **The loss graph:** Does the tail flatten out? What is the estimated loss in the end?\n",
        "\n",
        "\n",
        "- **Run time:** Notice the time that it takes to run each. Nearly all of the time is calculating the model, so you can compare this to the original model.fit code above.\n",
        "\n",
        "\n",
        "1. Change the number of epochs that you run from 150 to 300."
      ]
    },
    {
      "cell_type": "code",
      "execution_count": null,
      "metadata": {
        "id": "oDesex5QW4Vw"
      },
      "outputs": [],
      "source": []
    },
    {
      "cell_type": "markdown",
      "metadata": {},
      "source": [
        "2. Keep the epochs at 150. Use your weather data from the Weather Station Lab."
      ]
    },
    {
      "cell_type": "code",
      "execution_count": null,
      "metadata": {},
      "outputs": [],
      "source": []
    },
    {
      "cell_type": "markdown",
      "metadata": {
        "id": "2I6oc2SF3Gf1"
      },
      "source": [
        "##  Modifying the Model\n",
        "\n",
        "For this problem, we said that the model was pretty simple and one node in one layer was enough to generate good results.\n",
        "\n",
        "What if we modified this to have 2 dense layers, each with 3 nodes?\n",
        "\n",
        "The model layers would be something like this:\n",
        "```\n",
        "tf.keras.layers.Dense(units=3, input_shape=[1]),\n",
        "tf.keras.layers.Dense(units=3),\n",
        "tf.keras.layers.Dense(units=1)\n",
        "```\n",
        "\n",
        "Notice the first and second layers each have `units=3`. This represents the 3 nodes in the dense layers. The last layer still only has `units=1` because the final output needs to come down to one number. You can also see that the input_shape for the first layer is still `[1]` and the input hasn't changed.\n",
        "\n",
        "Go ahead and run this model below."
      ]
    },
    {
      "cell_type": "code",
      "execution_count": null,
      "metadata": {
        "id": "oojKCe-j4IzC"
      },
      "outputs": [],
      "source": []
    },
    {
      "cell_type": "markdown",
      "metadata": {
        "id": "qIRGFz8m4doD"
      },
      "source": [
        "Notice that the model predicted about the same, but with a lot more complexity. When creating models, you want to keep your model as simple as possible, and that will be determined by your dataset."
      ]
    }
  ],
  "metadata": {
    "colab": {
      "provenance": []
    },
    "kernelspec": {
      "display_name": "base",
      "language": "python",
      "name": "python3"
    },
    "language_info": {
      "codemirror_mode": {
        "name": "ipython",
        "version": 3
      },
      "file_extension": ".py",
      "mimetype": "text/x-python",
      "name": "python",
      "nbconvert_exporter": "python",
      "pygments_lexer": "ipython3",
      "version": "3.11.5"
    }
  },
  "nbformat": 4,
  "nbformat_minor": 0
}
