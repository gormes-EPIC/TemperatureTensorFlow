{
  "cells": [
    {
      "cell_type": "markdown",
      "metadata": {
        "id": "xBm1YJxHbUJU"
      },
      "source": [
        "# Lab 2.3: Temperature Conversion in TensorFlow\n",
        "\n",
        "## What is a Neural Network?\n",
        "\n",
        "![neuralnet.png](neuralnet.png)\n",
        "\n",
        "## Creating a Neural Network\n",
        "\n",
        "\n",
        "In this lab, you will create a **neural network** to calculate the temperature in Fahrenheit, given the corresponding Celsius. We know the formula to find Fahrenheit is:\n",
        "$$ °F = 1.8 \\times °C + 32 $$\n",
        "\n",
        "But we will be working a neural network instead. The purpose of the model is to have the computer \"intuit\" the formula by transforming the input and comparing it to the expected output. \n",
        "\n",
        "\n",
        "## Install TensorFlow\n",
        "\n",
        "Using your terminal install `tensorflow` with \n",
        "\n",
        "```\n",
        "pip install tensorflow\n",
        "```\n",
        "or\n",
        "```\n",
        "sudo apt install python3-tensorflow\n",
        "```\n"
      ]
    },
    {
      "cell_type": "markdown",
      "metadata": {
        "id": "zn_kcb3SYCEs"
      },
      "source": [
        "## Import TensorFlow and Pandas\n",
        "\n",
        "The first step in your program is to import the `tensorflow` into Python. Typically, we `import tensorflow as tf` for brevity. Import `pandas` as well."
      ]
    },
    {
      "cell_type": "code",
      "execution_count": 33,
      "metadata": {
        "id": "zGco5QF2L9ZJ"
      },
      "outputs": [],
      "source": [
        "import pandas as pd\n",
        "import tensorflow as tf"
      ]
    },
    {
      "cell_type": "markdown",
      "metadata": {
        "id": "EA-EKz6YMgFo"
      },
      "source": [
        "## Set Up Training Data\n",
        "\n",
        "Next, we need to create two variables for the input and output data to use to train the model.\n",
        "\n",
        "Using your temperature data from the Weather Station lab create two a new dataframe with two columns: `celsius` and `fahrenheit`.\n",
        "Then, save your `celsius` column in a new dataframe `X` and your `fahrenheit` as a seies `y`. This should be exactly the same as how you created `X` and `y` in your Automobile Model Lab. "
      ]
    },
    {
      "cell_type": "code",
      "execution_count": 34,
      "metadata": {
        "id": "UTcZHsX5M4QN"
      },
      "outputs": [],
      "source": [
        "# Original data\n",
        "celsius_input = [-40, 0, 15, 22, 100]\n",
        "fahren_output = [-40, 32, 59, 71.6, 212]\n",
        "\n",
        "# Create a DataFrame\n",
        "df = pd.DataFrame({\n",
        "    'Celsius': celsius_input,\n",
        "    'Fahrenheit': fahren_output\n",
        "})\n",
        "\n",
        "# Use the DataFrame columns as input and output\n",
        "X = df[['Celsius']]  # note the double brackets to keep it as a 2D DataFrame\n",
        "y = df['Fahrenheit']  # this can be a Series"
      ]
    },
    {
      "cell_type": "markdown",
      "metadata": {
        "id": "VflzfXORN7CD"
      },
      "source": [
        "##  Creating the TensorFlow Model\n",
        "\n",
        "The **neural network** we will use is limited to one input (Celsius temperature) and one output (Fahrenheit temperature), but the number of hidden layers and nodes can be altered. The more complex the model is, the more nodes and layers you will want to use. Since we know that the temperature model is very simple and can be modeled with just one node, let's start there.\n",
        "\n",
        "<img src=\"https://codehs.com/uploads/0f23a241373237aed063d0b5d8573036\" width=\"300\">\n",
        "\n",
        "\n",
        "Create a model with a single input and one hidden node with `model = tf.keras.Sequential([tf.keras.layers.Dense(units=1, input_shape=[1])])`\n",
        "- The single input is expressed with the `input_shape=[1]` parameter\n",
        "- The single node is expressed with the `units=1` parameter"
      ]
    },
    {
      "cell_type": "code",
      "execution_count": 35,
      "metadata": {
        "id": "spVQRItgO3Rg"
      },
      "outputs": [
        {
          "name": "stderr",
          "output_type": "stream",
          "text": [
            "/home/gormes/miniconda3/lib/python3.11/site-packages/keras/src/layers/core/dense.py:87: UserWarning: Do not pass an `input_shape`/`input_dim` argument to a layer. When using Sequential models, prefer using an `Input(shape)` object as the first layer in the model instead.\n",
            "  super().__init__(activity_regularizer=activity_regularizer, **kwargs)\n"
          ]
        }
      ],
      "source": [
        "model = tf.keras.Sequential([\n",
        "    tf.keras.layers.Dense(units=1, input_shape=[1])\n",
        "    ])"
      ]
    },
    {
      "cell_type": "markdown",
      "metadata": {
        "id": "lxkZlnwzPW7x"
      },
      "source": [
        "## Compiling and Running the Model\n",
        "\n",
        "Next, you can compile and run the model. The compile command set the parameters for the model. \n",
        "\n",
        "`model.compile(loss=\"mean_squared_error\", optimizer=tf.keras.optimizers.Adam(0.1))`\n",
        "\n",
        "Just like all the other models we've built, the model is actually built and fitted to the data with the `model.fit()` command. Notice that the parameters of this command take the input, output, and number of **epochs**, along with the verbose command to specify how much to print to the screen.\n",
        "\n",
        "`history = model.fit(X, y, epochs=150, verbose=False)`\n",
        "\n",
        "- `X` - This is the model input values(in Celsius).\n",
        "- `y` - This is the model output values(in Fahrenheit).\n",
        "- `epochs=150` - The model will run through the data 150 times. After each pass, it will update the weights and bias values to fit the model better.\n",
        "- `verbose=False` - This will suppress any output as the model builds. This command is optional, but makes the screen clear.\n",
        "\n",
        "\n",
        "This model output is assigned to the `history` variable. This will allow you to do some analysis on the fit of the model.\n",
        "\n",
        "### Run the code\n",
        "When you run this code, expect it to take a few seconds to execute as it is running through the data 150 times.\n"
      ]
    },
    {
      "cell_type": "code",
      "execution_count": 36,
      "metadata": {
        "id": "d8rR_tFoPh-j"
      },
      "outputs": [],
      "source": [
        "model.compile(loss=\"mean_squared_error\", optimizer=tf.keras.optimizers.Adam(0.1))\n",
        "\n",
        "history = model.fit(X, y, epochs=150, verbose=False)"
      ]
    },
    {
      "cell_type": "markdown",
      "metadata": {
        "id": "V5Zg5U5bQhqR"
      },
      "source": [
        "## Viewing the Results\n",
        "\n",
        "Now that the model has run, you can use it to predict a value. Just like previous models, we can use the `model.predict()` command .\n",
        "\n",
        "Create a new Dataframe with 100 degrees so we can see what our model predicts. It should be close to 212 degrees Fahrenheit but will probably not be exact. Each time you fit the model, you may get different resuts."
      ]
    },
    {
      "cell_type": "code",
      "execution_count": 37,
      "metadata": {
        "id": "EIvICqc-QhSq"
      },
      "outputs": [
        {
          "name": "stdout",
          "output_type": "stream",
          "text": [
            "\u001b[1m1/1\u001b[0m \u001b[32m━━━━━━━━━━━━━━━━━━━━\u001b[0m\u001b[37m\u001b[0m \u001b[1m0s\u001b[0m 101ms/step\n",
            "Predict for 100 degrees C: [[207.83806]]\n"
          ]
        }
      ],
      "source": [
        "prediction = [100]\n",
        "\n",
        "df = pd.DataFrame({\n",
        "    'Celsius': prediction,\n",
        "})\n",
        "\n",
        "print(\"Predict for 100 degrees C: \" + str(model.predict(df[['Celsius']] )))"
      ]
    },
    {
      "cell_type": "markdown",
      "metadata": {},
      "source": [
        "### View the Weight and Bias\n",
        "\n",
        "Use the following lines to view the model's weight and bias for the hidden node. Compare the weight and bias of your model to that of the real equation.\n",
        "\n",
        "$$  °F = WEIGHT × °C + BIAS $$\n",
        "$$  °F = 1.8 × °C + 32 $$\n",
        "\n",
        "```\n",
        "print (\"Model variables weights: \" + str(model.layers[0].get_weights()[0]))\n",
        "print (\"Model bias: \" + str(model.layers[0].get_weights()[1]))\n",
        "```"
      ]
    },
    {
      "cell_type": "code",
      "execution_count": 38,
      "metadata": {},
      "outputs": [
        {
          "name": "stdout",
          "output_type": "stream",
          "text": [
            "Model variables weights: [[1.9689605]]\n",
            "Model bias: [10.942005]\n"
          ]
        }
      ],
      "source": [
        "print (\"Model variables weights: \" + str(model.layers[0].get_weights()[0]))\n",
        "print (\"Model bias: \" + str(model.layers[0].get_weights()[1]))"
      ]
    },
    {
      "cell_type": "markdown",
      "metadata": {
        "id": "M-QK8QrySTUM"
      },
      "source": [
        "\n",
        "## Model Metrics\n",
        "Let's look at some more metrics about our model. \n",
        "\n",
        "Each time an epoch runs, it assigns a value for the weight and bias for each node. The model uses these values with the input value (temperature in celsius) to predict an output value (temperature in fahrenheit). The **loss value** is the difference between the predicted output and the actual output.\n",
        "\n",
        "## Import matplotlib and Plot Loss data\n",
        "\n",
        "Run the code below to see a measure of the loss value. Notice how the loss gets smaller over time. This represents the model fitting a little better with each pass.\n",
        "\n",
        "```\n",
        "import matplotlib.pyplot as plt\n",
        "\n",
        "plt.xlabel('Epoch Number')\n",
        "plt.ylabel(\"Loss Magnitude\")\n",
        "plt.ylim(0,2000)\n",
        "plt.grid()\n",
        "plt.plot(history.history['loss'])\n",
        "plt.show()\n",
        "```"
      ]
    },
    {
      "cell_type": "code",
      "execution_count": 39,
      "metadata": {
        "id": "UO_LIFEHSS4p"
      },
      "outputs": [
        {
          "data": {
            "image/png": "[encoded data removed]",
            "text/plain": [
              "<Figure size 640x480 with 1 Axes>"
            ]
          },
          "metadata": {},
          "output_type": "display_data"
        }
      ],
      "source": [
        "import matplotlib.pyplot as plt\n",
        "\n",
        "plt.xlabel('Epoch Number')\n",
        "plt.ylabel(\"Loss Magnitude\")\n",
        "plt.ylim(0,2000)\n",
        "plt.grid()\n",
        "plt.plot(history.history['loss'])\n",
        "plt.show()"
      ]
    },
    {
      "cell_type": "markdown",
      "metadata": {
        "id": "e5D7uk_vXe-b"
      },
      "source": [
        "## Modifying the Model Parameters\n",
        "\n",
        "The two models below contain the same input and output values as above, but you can make some edits to the model parameters to see the impact.\n",
        "\n",
        "Try each of the following and note the results.\n",
        "\n",
        "1. Change the number of epochs that you run from 150 to 300.\n",
        "2. Keep the epochs at 150. Create a new Dataframe with half of the data removed. Run your model on \n",
        "\n",
        "\n",
        "For each of these, you will want to compare two things:\n",
        "\n",
        "- **The loss graph:** Does the tail flatten out? What is the estimated loss in the end?\n",
        "\n",
        "\n",
        "- **Run time:** Notice the time that it takes to run each. Nearly all of the time is calculating the model, so you can compare this to the original model.fit code above.\n",
        "\n",
        "\n",
        "1. Change the number of epochs that you run from 150 to 300."
      ]
    },
    {
      "cell_type": "code",
      "execution_count": 41,
      "metadata": {
        "id": "oDesex5QW4Vw"
      },
      "outputs": [
        {
          "name": "stderr",
          "output_type": "stream",
          "text": [
            "/home/gormes/miniconda3/lib/python3.11/site-packages/keras/src/layers/core/dense.py:87: UserWarning: Do not pass an `input_shape`/`input_dim` argument to a layer. When using Sequential models, prefer using an `Input(shape)` object as the first layer in the model instead.\n",
            "  super().__init__(activity_regularizer=activity_regularizer, **kwargs)\n"
          ]
        },
        {
          "ename": "ValueError",
          "evalue": "Unrecognized data type: x=[-40, 0, 15, 22, 100] (of type <class 'list'>)",
          "output_type": "error",
          "traceback": [
            "\u001b[0;31m---------------------------------------------------------------------------\u001b[0m",
            "\u001b[0;31mValueError\u001b[0m                                Traceback (most recent call last)",
            "Cell \u001b[0;32mIn[41], line 11\u001b[0m\n\u001b[1;32m      9\u001b[0m model\u001b[38;5;241m.\u001b[39mcompile(loss\u001b[38;5;241m=\u001b[39m\u001b[38;5;124m\"\u001b[39m\u001b[38;5;124mmean_squared_error\u001b[39m\u001b[38;5;124m\"\u001b[39m, optimizer\u001b[38;5;241m=\u001b[39mtf\u001b[38;5;241m.\u001b[39mkeras\u001b[38;5;241m.\u001b[39moptimizers\u001b[38;5;241m.\u001b[39mAdam(\u001b[38;5;241m0.1\u001b[39m))\n\u001b[1;32m     10\u001b[0m \u001b[38;5;66;03m# Update the number of Epochs in this model\u001b[39;00m\n\u001b[0;32m---> 11\u001b[0m history \u001b[38;5;241m=\u001b[39m model\u001b[38;5;241m.\u001b[39mfit(celsius_input, fahren_output, epochs\u001b[38;5;241m=\u001b[39m\u001b[38;5;241m150\u001b[39m, verbose\u001b[38;5;241m=\u001b[39m\u001b[38;5;28;01mFalse\u001b[39;00m)\n\u001b[1;32m     13\u001b[0m \u001b[38;5;28mprint\u001b[39m(\u001b[38;5;124m\"\u001b[39m\u001b[38;5;124mPredict for 100 degrees C: \u001b[39m\u001b[38;5;124m\"\u001b[39m \u001b[38;5;241m+\u001b[39m \u001b[38;5;28mstr\u001b[39m(model\u001b[38;5;241m.\u001b[39mpredict([\u001b[38;5;241m100\u001b[39m])))\n\u001b[1;32m     14\u001b[0m \u001b[38;5;28mprint\u001b[39m (\u001b[38;5;124m\"\u001b[39m\u001b[38;5;124mModel variables weights: \u001b[39m\u001b[38;5;124m\"\u001b[39m \u001b[38;5;241m+\u001b[39m \u001b[38;5;28mstr\u001b[39m(model\u001b[38;5;241m.\u001b[39mlayers[\u001b[38;5;241m0\u001b[39m]\u001b[38;5;241m.\u001b[39mget_weights()[\u001b[38;5;241m0\u001b[39m]))\n",
            "File \u001b[0;32m~/miniconda3/lib/python3.11/site-packages/keras/src/utils/traceback_utils.py:122\u001b[0m, in \u001b[0;36mfilter_traceback.<locals>.error_handler\u001b[0;34m(*args, **kwargs)\u001b[0m\n\u001b[1;32m    119\u001b[0m     filtered_tb \u001b[38;5;241m=\u001b[39m _process_traceback_frames(e\u001b[38;5;241m.\u001b[39m__traceback__)\n\u001b[1;32m    120\u001b[0m     \u001b[38;5;66;03m# To get the full stack trace, call:\u001b[39;00m\n\u001b[1;32m    121\u001b[0m     \u001b[38;5;66;03m# `keras.config.disable_traceback_filtering()`\u001b[39;00m\n\u001b[0;32m--> 122\u001b[0m     \u001b[38;5;28;01mraise\u001b[39;00m e\u001b[38;5;241m.\u001b[39mwith_traceback(filtered_tb) \u001b[38;5;28;01mfrom\u001b[39;00m \u001b[38;5;28;01mNone\u001b[39;00m\n\u001b[1;32m    123\u001b[0m \u001b[38;5;28;01mfinally\u001b[39;00m:\n\u001b[1;32m    124\u001b[0m     \u001b[38;5;28;01mdel\u001b[39;00m filtered_tb\n",
            "File \u001b[0;32m~/miniconda3/lib/python3.11/site-packages/keras/src/trainers/data_adapters/__init__.py:125\u001b[0m, in \u001b[0;36mget_data_adapter\u001b[0;34m(x, y, sample_weight, batch_size, steps_per_epoch, shuffle, class_weight)\u001b[0m\n\u001b[1;32m    117\u001b[0m     \u001b[38;5;28;01mreturn\u001b[39;00m GeneratorDataAdapter(x)\n\u001b[1;32m    118\u001b[0m     \u001b[38;5;66;03m# TODO: should we warn or not?\u001b[39;00m\n\u001b[1;32m    119\u001b[0m     \u001b[38;5;66;03m# warnings.warn(\u001b[39;00m\n\u001b[1;32m    120\u001b[0m     \u001b[38;5;66;03m#     \"`shuffle=True` was passed, but will be ignored since the \"\u001b[39;00m\n\u001b[0;32m   (...)\u001b[0m\n\u001b[1;32m    123\u001b[0m     \u001b[38;5;66;03m# )\u001b[39;00m\n\u001b[1;32m    124\u001b[0m \u001b[38;5;28;01melse\u001b[39;00m:\n\u001b[0;32m--> 125\u001b[0m     \u001b[38;5;28;01mraise\u001b[39;00m \u001b[38;5;167;01mValueError\u001b[39;00m(\u001b[38;5;124mf\u001b[39m\u001b[38;5;124m\"\u001b[39m\u001b[38;5;124mUnrecognized data type: x=\u001b[39m\u001b[38;5;132;01m{\u001b[39;00mx\u001b[38;5;132;01m}\u001b[39;00m\u001b[38;5;124m (of type \u001b[39m\u001b[38;5;132;01m{\u001b[39;00m\u001b[38;5;28mtype\u001b[39m(x)\u001b[38;5;132;01m}\u001b[39;00m\u001b[38;5;124m)\u001b[39m\u001b[38;5;124m\"\u001b[39m)\n",
            "\u001b[0;31mValueError\u001b[0m: Unrecognized data type: x=[-40, 0, 15, 22, 100] (of type <class 'list'>)"
          ]
        }
      ],
      "source": [
        "# First Adjustment\n",
        "celsius_input = [-40, 0, 15, 22, 100]\n",
        "fahren_output = [-40, 32, 59, 72, 212]\n",
        "\n",
        "model = tf.keras.Sequential([\n",
        "    tf.keras.layers.Dense(units=1, input_shape=[1])\n",
        "    ])\n",
        "\n",
        "model.compile(loss=\"mean_squared_error\", optimizer=tf.keras.optimizers.Adam(0.1))\n",
        "# Update the number of Epochs in this model\n",
        "history = model.fit(celsius_input, fahren_output, epochs=150, verbose=False)\n",
        "\n",
        "print(\"Predict for 100 degrees C: \" + str(model.predict([100])))\n",
        "print (\"Model variables weights: \" + str(model.layers[0].get_weights()[0]))\n",
        "print (\"Model bias: \" + str(model.layers[0].get_weights()[1]))\n",
        "\n",
        "plt.xlabel('Epoch Number')\n",
        "plt.ylabel(\"Loss Magnitude\")\n",
        "plt.ylim(0,2000)\n",
        "plt.grid()\n",
        "plt.plot(history.history['loss'])\n",
        "plt.show()\n"
      ]
    },
    {
      "cell_type": "markdown",
      "metadata": {},
      "source": [
        "2. Keep the epochs at 150. Remove the second half of your data set and try it again."
      ]
    },
    {
      "cell_type": "code",
      "execution_count": null,
      "metadata": {},
      "outputs": [],
      "source": []
    },
    {
      "cell_type": "markdown",
      "metadata": {
        "id": "2I6oc2SF3Gf1"
      },
      "source": [
        "##  Modifying the Model\n",
        "\n",
        "For this problem, we said that the model was pretty simple and one node in one layer was enough to generate good results.\n",
        "\n",
        "What if we modified this to have 2 dense layers, each with 3 nodes?\n",
        "\n",
        "The model layers would be something like this:\n",
        "```\n",
        "tf.keras.layers.Dense(units=3, input_shape=[1]),\n",
        "tf.keras.layers.Dense(units=3),\n",
        "tf.keras.layers.Dense(units=1)\n",
        "```\n",
        "\n",
        "Notice the first and second layers each have `units=3`. This represents the 3 nodes in the dense layers. The last layer still only has `units=1` because the final output needs to come down to one number. You can also see that the input_shape for the first layer is still `[1]` and the input hasn't changed.\n",
        "\n",
        "Go ahead and run this model below."
      ]
    },
    {
      "cell_type": "code",
      "execution_count": null,
      "metadata": {
        "id": "oojKCe-j4IzC"
      },
      "outputs": [],
      "source": [
        "celsius_input = [-40, 0, 15, 22, 100]\n",
        "fahren_output = [-40, 32, 59, 72, 212]\n",
        "\n",
        "model = tf.keras.Sequential([\n",
        "    tf.keras.layers.Dense(units=3, input_shape=[1]),\n",
        "    tf.keras.layers.Dense(units=3),\n",
        "    tf.keras.layers.Dense(units=1)\n",
        "    ])\n",
        "\n",
        "model.compile(loss=\"mean_squared_error\", optimizer=tf.keras.optimizers.Adam(0.1))\n",
        "\n",
        "history = model.fit(celsius_input, fahren_output, epochs=150, verbose=False)\n",
        "\n",
        "print(\"Predict for 100 degrees C: \" + str(model.predict([100])))\n",
        "\n",
        "plt.xlabel('Epoch Number')\n",
        "plt.ylabel(\"Loss Magnitude\")\n",
        "plt.ylim(0,2000)\n",
        "plt.grid()\n",
        "plt.plot(history.history['loss'])\n",
        "plt.show()"
      ]
    },
    {
      "cell_type": "markdown",
      "metadata": {
        "id": "qIRGFz8m4doD"
      },
      "source": [
        "Notice that the model predicted about the same, but with a lot more complexity. When creating models, you want to keep your model as simple as possible, and that will be determined by your dataset."
      ]
    }
  ],
  "metadata": {
    "colab": {
      "provenance": []
    },
    "kernelspec": {
      "display_name": "base",
      "language": "python",
      "name": "python3"
    },
    "language_info": {
      "codemirror_mode": {
        "name": "ipython",
        "version": 3
      },
      "file_extension": ".py",
      "mimetype": "text/x-python",
      "name": "python",
      "nbconvert_exporter": "python",
      "pygments_lexer": "ipython3",
      "version": "3.11.5"
    }
  },
  "nbformat": 4,
  "nbformat_minor": 0
}
